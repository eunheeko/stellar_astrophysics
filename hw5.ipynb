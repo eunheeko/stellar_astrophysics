{
 "cells": [
  {
   "cell_type": "markdown",
   "metadata": {},
   "source": [
    "## 0. Goldreich and Kwan (1974, ApJ 189, 441) 공식 유도\n",
    "\n",
    "#### statistical quilibrium에 의해\n",
    "#### $\\frac{d}{dt} n_{i} = \\sum\\limits_{j\\neq i} n_{j}P_{ji} - n_{i}\\sum\\limits_{j\\neq i}\n",
    "P_{ij} = 0$ ,  $P_{ij}$: transition rate\n",
    "\n",
    "#### $P_{ij} = A_{ij} + B_{ij} + n_{e}C_{ij}$\n",
    "#### $A_{ij}, B_{ij}: Radiation$\n",
    "#### $n_{e}C_{ij: Collision}$\n",
    "\n",
    "#### 복사는 인접한 에너지 준위에서만, 충돌은 모든 에너지 준위 사이에서 나타날 수 있으므로, 각각의 효과를 따로 나타내면,\n",
    "\n",
    "#### $0 = \\sum_{}$\n",
    "\n",
    "#### $0 = \\beta_{j+1, j}A_{j+1, j}\\frac{2j+3}{2j+1}(n_{j+1} - \\frac{n_{j} - n_{j+1}}{exp(2hB(j+1))/kT_{BB} - 1}) - \\beta_{j, j-1}A_{j, j-1}(n_{j} - \\frac{n_{j-1} - n_{j}}{exp(2hBj)/kT_{BB} - 1}) + C[\\sum\\limits_{l = j+1}^{\\infty}(2l+1)(n_{l} - n_{j}exp(\\frac{hB}{kT}(j(j+1) - l(l+1)))) - \\sum\\limits_{l = 0}^{\\infty}(j-1)(n_{j} - n_{l}exp(\\frac{hB}{kT}(l(l+1) - j(j\n",
    "+1))))]$ \n"
   ]
  },
  {
   "cell_type": "code",
   "execution_count": 1,
   "metadata": {},
   "outputs": [],
   "source": [
    "import numpy as np\n",
    "import matplotlib.pyplot as plt"
   ]
  },
  {
   "cell_type": "code",
   "execution_count": 2,
   "metadata": {},
   "outputs": [],
   "source": [
    "N_co =  3e-5 * 2e4\n",
    "mu = 0.1 * 1e-18 # cgs\n",
    "R = 5 * 3.086e+18 #from pc to cm\n",
    "V = 30 *1e5 #km/s to cm/s\n",
    "h = 6.6261 * 1e-27 #cm2 g s-1\n",
    "k_b = 1.3807e-16 #cm2 g s-2 K-1\n",
    "B = 5.76e10 #Hz\n",
    "Tbb = 2.73 #k\n",
    "c = 3e10 #cm/s\n",
    "\n",
    "T = 25 + 273 #k\n",
    "C = 2e4 * 7e-12 * T**(1/2)\n",
    "A =16 * h * B**3 / c**2 * 32 * np.pi**4 * mu*2/3/h**2/c * 1/3\n",
    "TAU = 8 * np.pi**3 *mu**2 * R * N_co /(3*h*V)"
   ]
  },
  {
   "cell_type": "code",
   "execution_count": 3,
   "metadata": {},
   "outputs": [],
   "source": [
    "Js = np.arange(0, 11, 1)\n",
    "\n",
    "#table에서 주어진 값\n",
    "n_js_table = np.array([0.1092, 0.0873, 0.0558, 0.0285, 0.0115, 0.0035, 0.00062, 0.000047, 0.0000034, 0.0000003, 0])\n",
    "tau_table = np.array([8.46, 24.29, 31.61, 26.25, 15.53, 6.57, 1.56, 0.14, 0.011, 0.0011])\n",
    "text_table = np.array([24.72, 24.77, 24.74, 24.42, 23.06, 19.39, 15.04, 16.77, 20.75, 21.21])"
   ]
  },
  {
   "cell_type": "markdown",
   "metadata": {},
   "source": [
    "## 1. Level population\n",
    "#### eq (5): $\\beta_{j+1, j} = [1 - exp(-\\tau_{j+1, j})]/\\tau_{j+1, j}$\n",
    "\n",
    "####  eq (7): $\\tau_{j+1, j} = TAU(J+1)[n_{J} - n_{J+1}]$, $TAU=\\frac{8\\pi^{2}\\mu^{2}RN_{CO}}{3hV}$  \n",
    "\n",
    "#### eq (11): $0 = \\beta_{j+1, j}\\frac{(j+1)^{4}}{2j+1}(n_{j+1} - \\frac{n_{j} - n_{j+1}}{exp(2hB(j+1))/kT_{BB} - 1}) - \\beta_{j, j-1}\\frac{(j)^{4}}{2j+1}(n_{j} - \\frac{n_{j-1} - n_{j}}{exp(2hBj)/kT_{BB} - 1}) + \\frac{C}{3A_{1,0}}[\\sum\\limits_{l = j+1}^{\\infty}(2l+1)(n_{l} - n_{j}exp(\\frac{hB}{kT}(j(j+1) - l(l+1)))) - \\sum\\limits_{l = 0}^{\\infty}(j-1)(n_{j} - n_{l}exp(\\frac{hB}{kT}(l(l+1) - j(j\n",
    "+1))))]$ \n",
    "\n",
    "#### 식 5, 7, 11 을 조합하여 gauss-newton method를 사용해서 $n_{j}$의 값을 계산할 것이다."
   ]
  },
  {
   "cell_type": "code",
   "execution_count": 4,
   "metadata": {},
   "outputs": [],
   "source": [
    "import sympy as sp"
   ]
  },
  {
   "cell_type": "markdown",
   "metadata": {},
   "source": [
    "#### 계산의 편의를 위해 먼저 구하고자 하는 $n_{j}$를 변수로 설정한다."
   ]
  },
  {
   "cell_type": "code",
   "execution_count": 5,
   "metadata": {},
   "outputs": [],
   "source": [
    "ns = []\n",
    "for i in range(len(Js)):\n",
    "    n = sp.Symbol(f'n{i}')\n",
    "    ns.append(n)"
   ]
  },
  {
   "cell_type": "markdown",
   "metadata": {},
   "source": [
    "#### 주어진 quantum state J에  따라 eq 5, 7, 11을 계산할 수 있는 함수를 정의한다."
   ]
  },
  {
   "cell_type": "code",
   "execution_count": 6,
   "metadata": {},
   "outputs": [],
   "source": [
    "#equation 5\n",
    "def find_beta(J): #j+1,j\n",
    "    tau = TAU * (J+1) * (ns[J] - ns[J+1])\n",
    "    b = (1 - sp.exp(-tau))/tau\n",
    "    return b"
   ]
  },
  {
   "cell_type": "code",
   "execution_count": 7,
   "metadata": {},
   "outputs": [],
   "source": [
    "def sum1(J):\n",
    "    sum1 = 0\n",
    "    for i in range(J+1, 11):\n",
    "        sum1 += (2*i + 1) * (ns[i] - ns[J] * sp.exp(h*B/k_b/T*(J*(J+1) - i*(i+1))))\n",
    "\n",
    "    return sum1\n",
    "\n",
    "def sum2(J):\n",
    "    sum2 = 0\n",
    "    for i in range(0, J):\n",
    "        sum2 += (2*i + 1) * (ns[J] - ns[i] * sp.exp(h*B/k_b/T*(i*(i+1) - J*(J+1))))\n",
    "        \n",
    "    return -1 * sum2"
   ]
  },
  {
   "cell_type": "code",
   "execution_count": 8,
   "metadata": {},
   "outputs": [],
   "source": [
    "#eq 11\n",
    "def find_eq(J):\n",
    "        \n",
    "    if J < 1:\n",
    "        b0 = find_beta(J)\n",
    "        eq = b0 * (J+1)**4/(2*J+1) * (ns[J+1] - (ns[J] - ns[J+1])/(sp.exp(2*h*B*(J+1)/(k_b*Tbb)) - 1))+  2.17 * T**(-1.2) *sum1(J)\n",
    "\n",
    "    elif J > 9:\n",
    "        b1 = find_beta(J-1)\n",
    "        eq = - b1 * J**4/(2*J+1) * (ns[J] - (ns[J-1] - ns[J])/(sp.exp(2*h*B*J/(k_b*Tbb)) - 1))+  2.17 * T**(-1.2) * sum2(J)\n",
    "\n",
    "    else:\n",
    "        b0 = find_beta(J)\n",
    "        b1 = find_beta(J-1)\n",
    "        eq = b0 * (J+1)**4/(2*J+1) * (ns[J+1] - (ns[J] - ns[J+1])/(sp.exp(2*h*B*(J+1)/(k_b*Tbb)) - 1))- b1 * J**4/(2*J+1) * (ns[J] - (ns[J-1] - ns[J])/(sp.exp(2*h*B*J/(k_b*Tbb)) - 1)) + 2.17 * T**(-1.2)* (sum1(J) + sum2(J))\n",
    "\n",
    "    return eq\n"
   ]
  },
  {
   "cell_type": "markdown",
   "metadata": {},
   "source": [
    "#### F = $\\left[\\begin{array}{rrr} \n",
    "f_{j = 0}\\\\\n",
    ".\\\\\n",
    ".\\\\\n",
    ".\\\\\n",
    "f_{j = 10}\n",
    "\\end{array}\\right]$\n",
    "\n",
    "#### J = $\\left[\\begin{array}{rrr} \n",
    "\\frac{df_{j=0}}{dn_{j=0}}&...&\\frac{df_{j=0}}{dn_{j=10}}\\\\\n",
    ".&.&.\\\\\n",
    "\\frac{df_{j=10}}{dn_{j=0}}&...&\\frac{df_{j=10}}{dn_{j=10}}\n",
    "\\end{array}\\right]$"
   ]
  },
  {
   "cell_type": "code",
   "execution_count": 9,
   "metadata": {},
   "outputs": [],
   "source": [
    "#equation\n",
    "f_list = []\n",
    "for i in range(len(Js)):\n",
    "    f_list.append(find_eq(i))\n",
    "    \n",
    "F = sp.Matrix(f_list)"
   ]
  },
  {
   "cell_type": "code",
   "execution_count": 10,
   "metadata": {},
   "outputs": [],
   "source": [
    "#jacobian\n",
    "j_list = []\n",
    "for i in range(len(Js)):\n",
    "    j_list2 = []  \n",
    "    eq = find_eq(i)\n",
    "    for k in range(len(Js)):\n",
    "        j_list2.append(sp.diff(eq, ns[k]))\n",
    "    \n",
    "    j_list.append(j_list2)\n",
    "Jac = sp.Matrix(j_list)"
   ]
  },
  {
   "cell_type": "markdown",
   "metadata": {},
   "source": [
    "#### 초기 값을 설정한다. 이때 Newton method 특성상 초기 조건이 해와 크게 달라지면 발산하거나 다른 해를 찾을 수 있어 유의하여 초기값을 설정한다."
   ]
  },
  {
   "cell_type": "code",
   "execution_count": 11,
   "metadata": {},
   "outputs": [
    {
     "data": {
      "text/plain": [
       "array([7.94328235e-01, 2.04173794e-01, 5.24807460e-02, 1.34896288e-02,\n",
       "       3.46736850e-03, 8.91250938e-04, 2.29086765e-04, 5.88843655e-05,\n",
       "       1.51356125e-05, 3.89045145e-06, 1.00000000e-06])"
      ]
     },
     "execution_count": 11,
     "metadata": {},
     "output_type": "execute_result"
    }
   ],
   "source": [
    "# X_in = np.logspace(-0.1, -7, 11)\n",
    "# X_in = np.logspace(-0.1, -7, 11)\n",
    "X_in = np.logspace(-0.1, -6, 11)\n",
    "X_in"
   ]
  },
  {
   "cell_type": "code",
   "execution_count": 12,
   "metadata": {},
   "outputs": [
    {
     "name": "stdout",
     "output_type": "stream",
     "text": [
      "{n0: 0.7943282347242815, n1: 0.2041737944669529, n2: 0.05248074602497723, n3: 0.013489628825916526, n4: 0.003467368504525313, n5: 0.000891250938133745, n6: 0.00022908676527677702, n7: 5.888436553555884e-05, n8: 1.5135612484362071e-05, n9: 3.890451449942805e-06, n10: 1e-06}\n"
     ]
    }
   ],
   "source": [
    "#list to dictionary\n",
    "X_init = {ns[i]: X_in[i] for i in range(len(Js))}\n",
    "print(X_init)"
   ]
  },
  {
   "cell_type": "code",
   "execution_count": 13,
   "metadata": {},
   "outputs": [
    {
     "data": {
      "text/plain": [
       "Matrix([\n",
       "[  -0.130403673664045],\n",
       "[ -0.0290869540608262],\n",
       "[-0.00189922741396817],\n",
       "[ 0.00608226006499458],\n",
       "[  0.0089039536855502],\n",
       "[ 0.00677066712920401],\n",
       "[-9.25829723148479e-5],\n",
       "[-0.00113122918486288],\n",
       "[0.000277573698812551],\n",
       "[ 0.00108393226660249],\n",
       "[ 0.00108716577799914]])"
      ]
     },
     "execution_count": 13,
     "metadata": {},
     "output_type": "execute_result"
    }
   ],
   "source": [
    "F.subs(X_init)"
   ]
  },
  {
   "cell_type": "code",
   "execution_count": 14,
   "metadata": {},
   "outputs": [
    {
     "name": "stdout",
     "output_type": "stream",
     "text": [
      "{n0: 0.1092, n1: 0.0873, n2: 0.0558, n3: 0.0285, n4: 0.0115, n5: 0.0035, n6: 0.00062, n7: 4.7e-05, n8: 3.4e-06, n9: 3e-07, n10: 0.0}\n"
     ]
    }
   ],
   "source": [
    "X_answer = {ns[i]: n_js_table[i] for i in range(len(Js))}\n",
    "print(X_answer)"
   ]
  },
  {
   "cell_type": "markdown",
   "metadata": {},
   "source": [
    "#### R = 5pc, V = 30km/s T = 298K, $N_{H_{2}} = 2*10^{4} cm^{-3}$, $\\E$\n",
    "#### convergence criterion을 논문과 마찬가지로 $n_{J}$값이 1%이하로 변할 때로 설정하였다."
   ]
  },
  {
   "cell_type": "code",
   "execution_count": 15,
   "metadata": {},
   "outputs": [
    {
     "name": "stdout",
     "output_type": "stream",
     "text": [
      "1 2 3 4 5 6 7 8 9 10 11 12 13 14 15 16 17 18 19 20 21 22 23 24 25 26 27 28 "
     ]
    }
   ],
   "source": [
    "#iteration\n",
    "num_iter = 0\n",
    "eps = 1e-2 #\n",
    "\n",
    "while True:\n",
    "    if num_iter == 0:\n",
    "        #dictionary type\n",
    "        X0 = X_init\n",
    "        \n",
    "    num_iter += 1\n",
    "    print(f'{num_iter}', end = ' ')\n",
    "    \n",
    "    #matrix\n",
    "    mat = (Jac.T.subs(X0)* Jac.subs(X0)).inv() * Jac.T.subs(X0) * F.subs(X0)\n",
    "#     mat = Jac.subs(X0).inv() * F.subs(X0)\n",
    "    \n",
    "    mat2arr = np.array(list(mat))\n",
    "    X02arr = np.array(list(X0.values()))\n",
    "    \n",
    "    #new x\n",
    "    X_new_arr = X02arr - mat2arr\n",
    "    X_new2mat = {ns[i]: X_new_arr[i] for i in range(len(Js))}\n",
    "    \n",
    "    #new y\n",
    "    new = F.subs(X_new2mat)\n",
    "    new2arr = np.array(list(new))\n",
    "#     if np.all(np.abs(new2arr) < eps):\n",
    "    if np.all(np.abs(mat2arr / X02arr) < 0.01):\n",
    "        break\n",
    "    \n",
    "    X0 = X_new2mat\n"
   ]
  },
  {
   "cell_type": "code",
   "execution_count": 16,
   "metadata": {},
   "outputs": [
    {
     "data": {
      "text/plain": [
       "array([0.100014025797683, 0.0851815217160532, 0.0607059288929794,\n",
       "       0.0346459780828953, 0.0146590551381265, 0.00413764345644145,\n",
       "       0.000701564230057781, 7.91756166614808e-5, 1.81535180204579e-5,\n",
       "       6.79627925712237e-6, 2.11274383967024e-6], dtype=object)"
      ]
     },
     "execution_count": 16,
     "metadata": {},
     "output_type": "execute_result"
    }
   ],
   "source": [
    "X_new_arr"
   ]
  },
  {
   "cell_type": "code",
   "execution_count": 17,
   "metadata": {},
   "outputs": [
    {
     "data": {
      "text/plain": [
       "array([0.100014025797683, 0.0851815217160532, 0.0607059288929794,\n",
       "       0.0346459780828953, 0.0146590551381265, 0.00413764345644145,\n",
       "       0.000701564230057781, 7.91756166614808e-5, 1.81535180204579e-5,\n",
       "       6.79627925712237e-6, 2.11274383967024e-6], dtype=object)"
      ]
     },
     "execution_count": 17,
     "metadata": {},
     "output_type": "execute_result"
    }
   ],
   "source": [
    "#calculated value\n",
    "X_new_arr"
   ]
  },
  {
   "cell_type": "code",
   "execution_count": 18,
   "metadata": {},
   "outputs": [
    {
     "data": {
      "text/plain": [
       "array([1.092e-01, 8.730e-02, 5.580e-02, 2.850e-02, 1.150e-02, 3.500e-03,\n",
       "       6.200e-04, 4.700e-05, 3.400e-06, 3.000e-07, 0.000e+00])"
      ]
     },
     "execution_count": 18,
     "metadata": {},
     "output_type": "execute_result"
    }
   ],
   "source": [
    "#table\n",
    "n_js_table"
   ]
  },
  {
   "cell_type": "code",
   "execution_count": 19,
   "metadata": {},
   "outputs": [
    {
     "data": {
      "text/plain": [
       "[<matplotlib.lines.Line2D at 0x17788512898>]"
      ]
     },
     "execution_count": 19,
     "metadata": {},
     "output_type": "execute_result"
    },
    {
     "data": {
      "image/png": "[encoded data removed]",
      "text/plain": [
       "<Figure size 432x288 with 1 Axes>"
      ]
     },
     "metadata": {
      "needs_background": "light"
     },
     "output_type": "display_data"
    }
   ],
   "source": [
    "plt.scatter(n_js_table, X_new_arr)\n",
    "plt.plot([-0.02,0.12], [-0.02,0.12])"
   ]
  },
  {
   "cell_type": "markdown",
   "metadata": {},
   "source": [
    "## 2. calculate optical depth\n",
    "###  $\\tau_{j+1, j} = TAU(J+1)[n_{J} - n_{J+1}]$\n",
    "### $TAU=\\frac{8\\pi^{2}\\mu^{2}RN_{CO}}{3hV}$  "
   ]
  },
  {
   "cell_type": "code",
   "execution_count": 20,
   "metadata": {},
   "outputs": [],
   "source": [
    "tau_list = []\n",
    "for i in range(len(Js)-1):\n",
    "    t = TAU * (Js[i] + 1) * (X_new_arr[i] - X_new_arr[i+1])\n",
    "    tau_list.append(t)\n",
    "taus = np.array(tau_list)"
   ]
  },
  {
   "cell_type": "code",
   "execution_count": 21,
   "metadata": {},
   "outputs": [
    {
     "data": {
      "text/plain": [
       "<matplotlib.collections.PathCollection at 0x17788cb2c50>"
      ]
     },
     "execution_count": 21,
     "metadata": {},
     "output_type": "execute_result"
    },
    {
     "data": {
      "image/png": "[encoded data removed]",
      "text/plain": [
       "<Figure size 432x288 with 1 Axes>"
      ]
     },
     "metadata": {
      "needs_background": "light"
     },
     "output_type": "display_data"
    }
   ],
   "source": [
    "plt.scatter(taus, tau_table)"
   ]
  },
  {
   "cell_type": "markdown",
   "metadata": {},
   "source": [
    "## 3. excitation temperature\n",
    "### $T_{J, J-1} = \\frac{2hBJ}{kln(\\frac{n_{J-1}}{n_{J}})}$"
   ]
  },
  {
   "cell_type": "code",
   "execution_count": 28,
   "metadata": {},
   "outputs": [],
   "source": [
    "temp_list = []\n",
    "for i in range(1, len(Js)):\n",
    "    temp = 2*h*B*Js[i] / (k_b * sp.log(X_new_arr[i-1]/X_new_arr[i]))\n",
    "    temp_list.append(temp)\n",
    "temps = np.array(temp_list)"
   ]
  },
  {
   "cell_type": "code",
   "execution_count": 29,
   "metadata": {},
   "outputs": [
    {
     "data": {
      "text/plain": [
       "<matplotlib.collections.PathCollection at 0x17788e107b8>"
      ]
     },
     "execution_count": 29,
     "metadata": {},
     "output_type": "execute_result"
    },
    {
     "data": {
      "image/png": "[encoded data removed]",
      "text/plain": [
       "<Figure size 432x288 with 1 Axes>"
      ]
     },
     "metadata": {
      "needs_background": "light"
     },
     "output_type": "display_data"
    }
   ],
   "source": [
    "plt.scatter(temps, text_table)"
   ]
  },
  {
   "cell_type": "code",
   "execution_count": 34,
   "metadata": {},
   "outputs": [
    {
     "name": "stderr",
     "output_type": "stream",
     "text": [
      "C:\\Anaconda\\lib\\site-packages\\ipykernel_launcher.py:3: RuntimeWarning: divide by zero encountered in double_scalars\n",
      "  This is separate from the ipykernel package so we can avoid doing imports until\n"
     ]
    }
   ],
   "source": [
    "temp_list = []\n",
    "for i in range(1, len(Js)):\n",
    "    temp = 2*h*B*Js[i] / (k_b * sp.log(n_js_table[i-1]/n_js_table[i]))\n",
    "    temp_list.append(temp)\n",
    "temps = np.array(temp_list)"
   ]
  },
  {
   "cell_type": "code",
   "execution_count": 35,
   "metadata": {},
   "outputs": [
    {
     "data": {
      "text/plain": [
       "<matplotlib.collections.PathCollection at 0x17788e6cf98>"
      ]
     },
     "execution_count": 35,
     "metadata": {},
     "output_type": "execute_result"
    },
    {
     "data": {
      "image/png": "[encoded data removed]",
      "text/plain": [
       "<Figure size 432x288 with 1 Axes>"
      ]
     },
     "metadata": {
      "needs_background": "light"
     },
     "output_type": "display_data"
    }
   ],
   "source": [
    "plt.scatter(temps, text_table)"
   ]
  },
  {
   "cell_type": "markdown",
   "metadata": {},
   "source": [
    "## 4. departure coefficient\n",
    "#### LTE인 경우 볼츠만 식을 적용할 수 있으므로,\n",
    "\n",
    "#### $n_{j}^{*} = $"
   ]
  },
  {
   "cell_type": "code",
   "execution_count": null,
   "metadata": {},
   "outputs": [],
   "source": [
    "# n_j_star"
   ]
  }
 ],
 "metadata": {
  "kernelspec": {
   "display_name": "Python 3",
   "language": "python",
   "name": "python3"
  },
  "language_info": {
   "codemirror_mode": {
    "name": "ipython",
    "version": 3
   },
   "file_extension": ".py",
   "mimetype": "text/x-python",
   "name": "python",
   "nbconvert_exporter": "python",
   "pygments_lexer": "ipython3",
   "version": "3.7.3"
  }
 },
 "nbformat": 4,
 "nbformat_minor": 2
}
